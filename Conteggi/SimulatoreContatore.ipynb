{
 "cells": [
  {
   "cell_type": "code",
   "execution_count": 1,
   "metadata": {},
   "outputs": [],
   "source": [
    "#plots will be shown inline \n",
    "%matplotlib inline \n",
    "\n",
    "import numpy as np\n",
    "import matplotlib.pyplot as plt\n",
    "import matplotlib.mlab as mlab\n",
    "from scipy import stats\n",
    "import pandas as pd\n",
    "import math\n",
    "from scipy import interpolate\n",
    "\n",
    "from SimContatore import SimContatore"
   ]
  },
  {
   "cell_type": "markdown",
   "metadata": {},
   "source": [
    "## Istruzioni sull'uso del simulatore di un contatore geiger"
   ]
  },
  {
   "cell_type": "code",
   "execution_count": 2,
   "metadata": {},
   "outputs": [
    {
     "name": "stdout",
     "output_type": "stream",
     "text": [
      "20 misure ripetute di conteggio in un intervallo temporale di 2.0 s =\n",
      "[0 4 2 0 2 3 1 2 2 2 3 2 0 1 1 2 1 2 1 0]\n",
      "\n",
      "[0 4 2 0 2 3 1 2 2 2 3 2 0 1 1 2 1 2 1 0]\n",
      "\n",
      "0 []\n",
      "4 [0.7864 1.5573 1.6902 1.7306]\n",
      "2 [0.4587 1.855 ]\n",
      "0 []\n",
      "2 [1.33   1.5499]\n",
      "3 [0.4365 0.4397 1.9107]\n",
      "1 [1.2511]\n",
      "2 [0.6455 1.1686]\n",
      "2 [1.1501 1.3164]\n",
      "2 [0.2239 1.0943]\n",
      "3 [0.6169 1.0112 1.7828]\n",
      "2 [0.0123 0.0655]\n",
      "0 []\n",
      "1 [0.9294]\n",
      "1 [1.7819]\n",
      "2 [1.1736 1.2756]\n",
      "1 [0.1929]\n",
      "2 [0.0032 1.2307]\n",
      "1 [1.2009]\n",
      "0 []\n"
     ]
    },
    {
     "name": "stderr",
     "output_type": "stream",
     "text": [
      "/Users/filippodaminato/opt/anaconda3/lib/python3.8/site-packages/numpy/core/_asarray.py:83: VisibleDeprecationWarning: Creating an ndarray from ragged nested sequences (which is a list-or-tuple of lists-or-tuples-or ndarrays with different lengths or shapes) is deprecated. If you meant to do this, you must specify 'dtype=object' when creating the ndarray\n",
      "  return array(a, dtype, copy=False, order=order)\n"
     ]
    }
   ],
   "source": [
    "# Crea l'oggetto \"simulatore della molla\"\n",
    "myContatore = SimContatore()\n",
    "\n",
    "# MisuraConteggi(tempo T di presa dati in secondi, numero N di misure ripetute, posizione geiger)\n",
    "# posizione geiger e' una stringa e può assumere solo uno di questi valori:\n",
    "#\"O\" (orizzontale senza sorgente radioattiva)\n",
    "#\"V\" (verticale senza sorgente radioattiva)\n",
    "#\"S\" (orizzontale appoggiato sulla sorgente radioattiva)\n",
    "# l'output sono due numpy array\n",
    "# es. misuro conteggi in 2 secondi, 20 misure ripetute, nella posizione orizzontale senza sorgente \n",
    "mycounts, mytimes = myContatore.MisuraConteggi(2,20,\"O\")\n",
    "\n",
    "# Il primo array (mycounts, in questo esempio) ha dimensione pari al numero di misure \n",
    "# ogni elemento rappresenta il numero di conteggi registrato nel tempo T di presa dati\n",
    "print (\"\")\n",
    "print (mycounts)\n",
    "\n",
    "# Il secondo array (mytimes, in questo esempio) e' un vettore di vettori. \n",
    "# E' costituito da N elementi (come il numero delle misure ripetute).\n",
    "# Ciascun elemento e' un vettore che contiene i tempo t_i (in ordine temporale)\n",
    "# in cui il contatore geiger ha rivelato una particella.\n",
    "#\n",
    "# Es.1 Misura i-esima fornisce questi tempi [0.5462 0.7129 0.7511 0.9717] \n",
    "# In questa misura il contatore ha registrato 4 conteggi (4 segnali)\n",
    "# Il primo segnale e' stato rivelato a 0.5462 s dall'inizio della misura,\n",
    "# il secondo segnale è stato rivelato dopo 0.7129 s  dall'inizio, etc.. \n",
    "# Quindi tra il primo ed il secondo segnale sono passati 0.7129-0.5462 = 0.1667 secondi.\n",
    "#\n",
    "# Es.2 Misura i-esima fornisce questi tempi []\n",
    "# Non sono stati registrati conteggi in questa misura.\n",
    "print (\"\")\n",
    "#print (mytimes)\n",
    "for run in mytimes:\n",
    "    print (run.size,run)"
   ]
  },
  {
   "cell_type": "markdown",
   "metadata": {},
   "source": [
    "# Previsione di una distribuzione statistica"
   ]
  },
  {
   "cell_type": "code",
   "execution_count": 6,
   "metadata": {},
   "outputs": [
    {
     "name": "stdout",
     "output_type": "stream",
     "text": [
      "50 misure ripetute di conteggio in un intervallo temporale di 2.0 s =\n",
      "[2 1 4 2 1 1 2 3 1 1 3 1 3 0 2 5 4 4 1 4 4 1 2 4 1 0 2 4 0 1 2 2 1 2 4 1 0\n",
      " 2 2 3 2 3 1 2 1 0 2 0 1 4]\n"
     ]
    },
    {
     "data": {
      "text/plain": [
       "<matplotlib.legend.Legend at 0x7feceb7f0e20>"
      ]
     },
     "execution_count": 6,
     "metadata": {},
     "output_type": "execute_result"
    },
    {
     "data": {
      "image/png": "[encoded data removed]",
      "text/plain": [
       "<Figure size 432x288 with 1 Axes>"
      ]
     },
     "metadata": {
      "needs_background": "light"
     },
     "output_type": "display_data"
    }
   ],
   "source": [
    "def PrevisionePossion(Lambda,xmin,xmax,n):\n",
    "    x = np.arange(xmin,xmax)\n",
    "    k_list = [] \n",
    "    sigma_k_list = []\n",
    "    for i in x:\n",
    "        p_i = stats.poisson.pmf(i, Lambda)\n",
    "        k_list.append( n*p_i )\n",
    "        sigma_k_list.append( math.sqrt( n * p_i * (1-p_i) ) )  \n",
    "    k = np.asarray(k_list)\n",
    "    sigma_k = np.asarray(sigma_k_list)\n",
    "    return k, sigma_k\n",
    "\n",
    "### NOTA: QUESTO ESEMPIO SERVE SOLO PER ILLUSTRARE LE FUNZIONI DI PYTHON\n",
    "### PER DISEGNARE ISTOGRAMMA E PREVISIONE NELLO STESSO GRAFICO.\n",
    "### IL VALORI DEI PARAMETRI (QUI SOTTO) IN QUESTO ESEMPIO SONO CASUALI.\n",
    "### STA A VOI MODIFICARE IL CODICE PER ADATTARLO AL VOSTRO CASO\n",
    "N_misure = 50\n",
    "mycounts1, mytimes1 = myContatore.MisuraConteggi(2,N_misure,\"O\")\n",
    "mylambda = len(mycounts1)  #dovrebbe essere il valore atteso di lambda (5 solo un numero a caso)\n",
    "xmin = min(mycounts1)\n",
    "xmax = max(mycounts1)\n",
    "Nbins= xmax-xmin \n",
    "\n",
    "# Disegna la distribuzione statistica = istogramma \n",
    "# (notare lo shift di -0.5 per far si che il centro del bin sia un numero intero)\n",
    "plt.hist(mycounts1,bins=Nbins,range=(xmin-0.5,xmax-0.5),label=\"Distribuzione statistica\")\n",
    "\n",
    "# Calcola e disegna la previsione della distribuzione statistica\n",
    "x_prev = np.arange(xmin,xmax)\n",
    "k_prev, sigma_k_prev = PrevisionePossion(mylambda,xmin,xmax,N_misure)\n",
    "plt.errorbar(x_prev,\n",
    "             k_prev,\n",
    "             yerr=sigma_k_prev,\n",
    "             marker='o',markersize=3,linestyle='none',label=\"Previsione\")\n",
    "\n",
    "# assi e legenda\n",
    "plt.xlabel(\"Conteggi\")\n",
    "plt.ylabel(\"Occorrenze\")\n",
    "plt.legend()"
   ]
  },
  {
   "cell_type": "markdown",
   "metadata": {},
   "source": [
    "# Funzioni utili per mostrare un risultato"
   ]
  },
  {
   "cell_type": "code",
   "execution_count": 5,
   "metadata": {},
   "outputs": [
    {
     "name": "stdout",
     "output_type": "stream",
     "text": [
      "massa = (10.12 +/- 0.15 ) kg [1.48%]\n",
      "massa = (10.12 +/- 0.15/0.13 ) kg [1.38%]\n"
     ]
    }
   ],
   "source": [
    "# Se volete usarle, mettete queste funzioni all'inizio del notebook\n",
    "# in modo che siano definite se usate in seguito nel codice\n",
    "\n",
    "def PrintResult(name,mean,sigma,digits,unit):\n",
    "    mean = round(mean,digits)\n",
    "    sigma = round(sigma,digits)\n",
    "    nu = sigma / mean\n",
    "    result = (name+\" = ({0} +/- {1} ) \".format(mean,sigma)+unit+\" [{0:.2f}%]\".format(nu*100))\n",
    "    print (result)\n",
    "    #return \"\"\n",
    "\n",
    "def PrintResultAsym(name,mean,sigma_L,sigma_R,digits,unit):\n",
    "    mean = round(mean,digits)\n",
    "    sigma_L = round(sigma_L,digits)\n",
    "    sigma_R = round(sigma_R,digits)\n",
    "    nu = (sigma_L+sigma_R) / (2*mean)\n",
    "    result = (name+\" = ({0} +/- {1}/{2} ) \".format(mean,sigma_L,sigma_R)+unit+\" [{0:.2f}%]\".format(nu*100))\n",
    "    print (result)\n",
    "    #return \"\"    \n",
    "    \n",
    "# Esempio con incertezze simmetriche a destra e sinistra\n",
    "PrintResult(\"massa\",10.123,0.146,2,\"kg\")\n",
    "\n",
    "# Esempio con incertezze asimmetriche a destra e sinistra\n",
    "PrintResultAsym(\"massa\",10.123,0.146,0.134,2,\"kg\")"
   ]
  },
  {
   "cell_type": "markdown",
   "metadata": {},
   "source": [
    "# Metodo della massima verosimiglianza"
   ]
  },
  {
   "cell_type": "code",
   "execution_count": 6,
   "metadata": {},
   "outputs": [
    {
     "name": "stdout",
     "output_type": "stream",
     "text": [
      "r_best_LL = (0.5 +/- 0.048/0.052 ) conteggi/s [10.00%]\n"
     ]
    },
    {
     "data": {
      "image/png": "[encoded data removed]",
      "text/plain": [
       "<Figure size 432x288 with 1 Axes>"
      ]
     },
     "metadata": {
      "needs_background": "light"
     },
     "output_type": "display_data"
    }
   ],
   "source": [
    "# Log Likelihood - Poisson \n",
    "def lnLL(r,sum_xi,T,N):\n",
    "    return -N*r*T + sum_xi * math.log(r)\n",
    "lnLL_vfunc = np.vectorize(lnLL)    \n",
    "\n",
    "deltaT = 4 # intervallo temporale di una singola misura [s]\n",
    "N_misure = 50 # numero di misure\n",
    "ntot = 100 # numero totale di conteggi in N_misure\n",
    "\n",
    "rmin = 0.3\n",
    "rmax = 0.7\n",
    "rstep = 0.001\n",
    "\n",
    "r_values = np.arange(rmin,rmax,rstep)\n",
    "lnLL_values = lnLL_vfunc(r_values,ntot,deltaT,N_misure)\n",
    "max_lnLL = np.amax(lnLL_values)\n",
    "\n",
    "plt.plot(r_values,lnLL_values)\n",
    "plt.xlabel(\"r [conteggi/s]\")\n",
    "plt.ylabel(r\"$const + ln(\\mathcal{L(r)})$\")\n",
    "plt.ylim(np.amax(lnLL_values)-2, np.amax(lnLL_values)+0.5 )\n",
    "plt.xlim(rmin,rmax)\n",
    "plt.hlines(max_lnLL,rmin,rmax,linestyle=\"--\")\n",
    "plt.hlines(max_lnLL-0.5,rmin,rmax,linestyle=\"--\",colors=\"green\")\n",
    "plt.grid()\n",
    "\n",
    "# Metodo grafico per la stima delle incertezze su r_best\n",
    "r_best_LL = r_values[np.argmax(lnLL_values)]\n",
    "\n",
    "yToFind = max_lnLL-0.5\n",
    "lnLL_values_reduced = lnLL_values - yToFind\n",
    "f_reduced = interpolate.UnivariateSpline(r_values, lnLL_values_reduced, s=0)\n",
    "solutions = f_reduced.roots()\n",
    "sigma_r_best_left = r_best_LL-solutions[0]\n",
    "sigma_r_best_right = solutions[1]-r_best_LL\n",
    "\n",
    "PrintResultAsym(\"r_best_LL\",r_best_LL,sigma_r_best_left,sigma_r_best_right,3,\"conteggi/s\")"
   ]
  },
  {
   "cell_type": "markdown",
   "metadata": {},
   "source": [
    "# Disegnare un funzione insieme ad un grafico"
   ]
  },
  {
   "cell_type": "code",
   "execution_count": 7,
   "metadata": {},
   "outputs": [
    {
     "data": {
      "text/plain": [
       "<matplotlib.legend.Legend at 0x117b90410>"
      ]
     },
     "execution_count": 7,
     "metadata": {},
     "output_type": "execute_result"
    },
    {
     "data": {
      "image/png": "[encoded data removed]",
      "text/plain": [
       "<Figure size 432x288 with 1 Axes>"
      ]
     },
     "metadata": {
      "needs_background": "light"
     },
     "output_type": "display_data"
    }
   ],
   "source": [
    "x = np.array([1,2,3,4,5,6,7])\n",
    "y = np.array([10,20,30,40,50,60,70])\n",
    "s_y = np.array([3,3,3,3,3,3,3])\n",
    "\n",
    "xmin = 0\n",
    "xmax = 10\n",
    "x_attesa = np.arange(xmin,xmax)\n",
    "y_attesa = np.exp(0.01*x_attesa) + x_attesa**2 + 5 \n",
    "\n",
    "plt.errorbar(x,y,yerr=s_y,linestyle=\"None\",marker=\"o\",label=\"Misure\")\n",
    "\n",
    "plt.plot(x_attesa,y_attesa,label=\"Valore atteso\")\n",
    "\n",
    "plt.xlabel(\"x [..]\")\n",
    "plt.ylabel(\"y [..]\")\n",
    "\n",
    "#plt.yscale(\"log\")\n",
    "\n",
    "plt.legend()"
   ]
  },
  {
   "cell_type": "code",
   "execution_count": 8,
   "metadata": {},
   "outputs": [
    {
     "name": "stdout",
     "output_type": "stream",
     "text": [
      "(2.0, 2.220446049250313e-14)\n"
     ]
    }
   ],
   "source": [
    "import scipy.integrate as integrate\n",
    "\n",
    "def myfunction(x,a):\n",
    "    value = a*x\n",
    "    return value\n",
    "\n",
    "#integral of y=a*x between 0 and 1\n",
    "myintegral = integrate.quad(myfunction, 0., 1, args=(4))\n",
    "print (myintegral)"
   ]
  }
 ],
 "metadata": {
  "kernelspec": {
   "display_name": "Python 3",
   "language": "python",
   "name": "python3"
  },
  "language_info": {
   "codemirror_mode": {
    "name": "ipython",
    "version": 3
   },
   "file_extension": ".py",
   "mimetype": "text/x-python",
   "name": "python",
   "nbconvert_exporter": "python",
   "pygments_lexer": "ipython3",
   "version": "3.8.5"
  }
 },
 "nbformat": 4,
 "nbformat_minor": 4
}
