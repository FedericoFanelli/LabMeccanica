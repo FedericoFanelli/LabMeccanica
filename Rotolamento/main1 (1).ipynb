{
 "cells": [
  {
   "cell_type": "code",
   "execution_count": 1,
   "metadata": {},
   "outputs": [],
   "source": [
    "%matplotlib inline\n",
    "import numpy as np\n",
    "import matplotlib.pyplot as plt\n",
    "import matplotlib.mlab as mlab\n",
    "from scipy import stats\n",
    "import pandas as pd\n",
    "import math\n",
    "\n",
    "import my_lib_santanastasio as my\n",
    "\n",
    "import rotolamento as rt"
   ]
  },
  {
   "cell_type": "code",
   "execution_count": 2,
   "metadata": {},
   "outputs": [],
   "source": [
    "def get_intervals(time, data, bottom,top):\n",
    "    \n",
    "    intervals = []\n",
    "    indexes = []\n",
    "    x = 0\n",
    "    while x < len(time)-5:\n",
    "        temp_bt = None\n",
    "        \n",
    "        #over bottom\n",
    "        if data[x] >= bottom and data[x] <= top:\n",
    "            temp_bt = x\n",
    "            \n",
    "            while data[x] >= bottom and data[x] <= top and x < len(time)-5 :\n",
    "                x += 5\n",
    "            \n",
    "            #if over top\n",
    "            if data[x] >= top:\n",
    "                intervals.append([time[temp_bt],time[x]])\n",
    "                indexes.append([temp_bt,x])\n",
    "                \n",
    "                while x < len(time)-5 and data[x] >= bottom:\n",
    "                    x += 5\n",
    "                    \n",
    "        x += 5\n",
    "                             \n",
    "    return intervals,indexes"
   ]
  },
  {
   "cell_type": "code",
   "execution_count": 3,
   "metadata": {},
   "outputs": [
    {
     "ename": "FileNotFoundError",
     "evalue": "[Errno 2] No such file or directory: 'data-25deg.csv'",
     "output_type": "error",
     "traceback": [
      "\u001b[0;31m---------------------------------------------------------------------------\u001b[0m",
      "\u001b[0;31mFileNotFoundError\u001b[0m                         Traceback (most recent call last)",
      "\u001b[0;32m<ipython-input-3-bf0ff71d46e2>\u001b[0m in \u001b[0;36m<module>\u001b[0;34m\u001b[0m\n\u001b[0;32m----> 1\u001b[0;31m \u001b[0mdf\u001b[0m \u001b[0;34m=\u001b[0m \u001b[0mpd\u001b[0m\u001b[0;34m.\u001b[0m\u001b[0mread_csv\u001b[0m\u001b[0;34m(\u001b[0m\u001b[0;34m'data-25deg.csv'\u001b[0m\u001b[0;34m)\u001b[0m\u001b[0;34m\u001b[0m\u001b[0;34m\u001b[0m\u001b[0m\n\u001b[0m\u001b[1;32m      2\u001b[0m \u001b[0;34m\u001b[0m\u001b[0m\n\u001b[1;32m      3\u001b[0m \u001b[0mdata_time\u001b[0m \u001b[0;34m=\u001b[0m \u001b[0mdf\u001b[0m\u001b[0;34m[\u001b[0m\u001b[0;34m'Time (s)'\u001b[0m\u001b[0;34m]\u001b[0m\u001b[0;34m.\u001b[0m\u001b[0mto_numpy\u001b[0m\u001b[0;34m(\u001b[0m\u001b[0;34m)\u001b[0m\u001b[0;34m\u001b[0m\u001b[0;34m\u001b[0m\u001b[0m\n\u001b[1;32m      4\u001b[0m \u001b[0mdata_y\u001b[0m \u001b[0;34m=\u001b[0m \u001b[0mdf\u001b[0m\u001b[0;34m[\u001b[0m\u001b[0;34m'Gyroscope y (rad/s)'\u001b[0m\u001b[0;34m]\u001b[0m\u001b[0;34m.\u001b[0m\u001b[0mto_numpy\u001b[0m\u001b[0;34m(\u001b[0m\u001b[0;34m)\u001b[0m\u001b[0;34m\u001b[0m\u001b[0;34m\u001b[0m\u001b[0m\n\u001b[1;32m      5\u001b[0m \u001b[0;34m\u001b[0m\u001b[0m\n",
      "\u001b[0;32m~/opt/anaconda3/lib/python3.8/site-packages/pandas/io/parsers.py\u001b[0m in \u001b[0;36mread_csv\u001b[0;34m(filepath_or_buffer, sep, delimiter, header, names, index_col, usecols, squeeze, prefix, mangle_dupe_cols, dtype, engine, converters, true_values, false_values, skipinitialspace, skiprows, skipfooter, nrows, na_values, keep_default_na, na_filter, verbose, skip_blank_lines, parse_dates, infer_datetime_format, keep_date_col, date_parser, dayfirst, cache_dates, iterator, chunksize, compression, thousands, decimal, lineterminator, quotechar, quoting, doublequote, escapechar, comment, encoding, dialect, error_bad_lines, warn_bad_lines, delim_whitespace, low_memory, memory_map, float_precision)\u001b[0m\n\u001b[1;32m    684\u001b[0m     )\n\u001b[1;32m    685\u001b[0m \u001b[0;34m\u001b[0m\u001b[0m\n\u001b[0;32m--> 686\u001b[0;31m     \u001b[0;32mreturn\u001b[0m \u001b[0m_read\u001b[0m\u001b[0;34m(\u001b[0m\u001b[0mfilepath_or_buffer\u001b[0m\u001b[0;34m,\u001b[0m \u001b[0mkwds\u001b[0m\u001b[0;34m)\u001b[0m\u001b[0;34m\u001b[0m\u001b[0;34m\u001b[0m\u001b[0m\n\u001b[0m\u001b[1;32m    687\u001b[0m \u001b[0;34m\u001b[0m\u001b[0m\n\u001b[1;32m    688\u001b[0m \u001b[0;34m\u001b[0m\u001b[0m\n",
      "\u001b[0;32m~/opt/anaconda3/lib/python3.8/site-packages/pandas/io/parsers.py\u001b[0m in \u001b[0;36m_read\u001b[0;34m(filepath_or_buffer, kwds)\u001b[0m\n\u001b[1;32m    450\u001b[0m \u001b[0;34m\u001b[0m\u001b[0m\n\u001b[1;32m    451\u001b[0m     \u001b[0;31m# Create the parser.\u001b[0m\u001b[0;34m\u001b[0m\u001b[0;34m\u001b[0m\u001b[0;34m\u001b[0m\u001b[0m\n\u001b[0;32m--> 452\u001b[0;31m     \u001b[0mparser\u001b[0m \u001b[0;34m=\u001b[0m \u001b[0mTextFileReader\u001b[0m\u001b[0;34m(\u001b[0m\u001b[0mfp_or_buf\u001b[0m\u001b[0;34m,\u001b[0m \u001b[0;34m**\u001b[0m\u001b[0mkwds\u001b[0m\u001b[0;34m)\u001b[0m\u001b[0;34m\u001b[0m\u001b[0;34m\u001b[0m\u001b[0m\n\u001b[0m\u001b[1;32m    453\u001b[0m \u001b[0;34m\u001b[0m\u001b[0m\n\u001b[1;32m    454\u001b[0m     \u001b[0;32mif\u001b[0m \u001b[0mchunksize\u001b[0m \u001b[0;32mor\u001b[0m \u001b[0miterator\u001b[0m\u001b[0;34m:\u001b[0m\u001b[0;34m\u001b[0m\u001b[0;34m\u001b[0m\u001b[0m\n",
      "\u001b[0;32m~/opt/anaconda3/lib/python3.8/site-packages/pandas/io/parsers.py\u001b[0m in \u001b[0;36m__init__\u001b[0;34m(self, f, engine, **kwds)\u001b[0m\n\u001b[1;32m    944\u001b[0m             \u001b[0mself\u001b[0m\u001b[0;34m.\u001b[0m\u001b[0moptions\u001b[0m\u001b[0;34m[\u001b[0m\u001b[0;34m\"has_index_names\"\u001b[0m\u001b[0;34m]\u001b[0m \u001b[0;34m=\u001b[0m \u001b[0mkwds\u001b[0m\u001b[0;34m[\u001b[0m\u001b[0;34m\"has_index_names\"\u001b[0m\u001b[0;34m]\u001b[0m\u001b[0;34m\u001b[0m\u001b[0;34m\u001b[0m\u001b[0m\n\u001b[1;32m    945\u001b[0m \u001b[0;34m\u001b[0m\u001b[0m\n\u001b[0;32m--> 946\u001b[0;31m         \u001b[0mself\u001b[0m\u001b[0;34m.\u001b[0m\u001b[0m_make_engine\u001b[0m\u001b[0;34m(\u001b[0m\u001b[0mself\u001b[0m\u001b[0;34m.\u001b[0m\u001b[0mengine\u001b[0m\u001b[0;34m)\u001b[0m\u001b[0;34m\u001b[0m\u001b[0;34m\u001b[0m\u001b[0m\n\u001b[0m\u001b[1;32m    947\u001b[0m \u001b[0;34m\u001b[0m\u001b[0m\n\u001b[1;32m    948\u001b[0m     \u001b[0;32mdef\u001b[0m \u001b[0mclose\u001b[0m\u001b[0;34m(\u001b[0m\u001b[0mself\u001b[0m\u001b[0;34m)\u001b[0m\u001b[0;34m:\u001b[0m\u001b[0;34m\u001b[0m\u001b[0;34m\u001b[0m\u001b[0m\n",
      "\u001b[0;32m~/opt/anaconda3/lib/python3.8/site-packages/pandas/io/parsers.py\u001b[0m in \u001b[0;36m_make_engine\u001b[0;34m(self, engine)\u001b[0m\n\u001b[1;32m   1176\u001b[0m     \u001b[0;32mdef\u001b[0m \u001b[0m_make_engine\u001b[0m\u001b[0;34m(\u001b[0m\u001b[0mself\u001b[0m\u001b[0;34m,\u001b[0m \u001b[0mengine\u001b[0m\u001b[0;34m=\u001b[0m\u001b[0;34m\"c\"\u001b[0m\u001b[0;34m)\u001b[0m\u001b[0;34m:\u001b[0m\u001b[0;34m\u001b[0m\u001b[0;34m\u001b[0m\u001b[0m\n\u001b[1;32m   1177\u001b[0m         \u001b[0;32mif\u001b[0m \u001b[0mengine\u001b[0m \u001b[0;34m==\u001b[0m \u001b[0;34m\"c\"\u001b[0m\u001b[0;34m:\u001b[0m\u001b[0;34m\u001b[0m\u001b[0;34m\u001b[0m\u001b[0m\n\u001b[0;32m-> 1178\u001b[0;31m             \u001b[0mself\u001b[0m\u001b[0;34m.\u001b[0m\u001b[0m_engine\u001b[0m \u001b[0;34m=\u001b[0m \u001b[0mCParserWrapper\u001b[0m\u001b[0;34m(\u001b[0m\u001b[0mself\u001b[0m\u001b[0;34m.\u001b[0m\u001b[0mf\u001b[0m\u001b[0;34m,\u001b[0m \u001b[0;34m**\u001b[0m\u001b[0mself\u001b[0m\u001b[0;34m.\u001b[0m\u001b[0moptions\u001b[0m\u001b[0;34m)\u001b[0m\u001b[0;34m\u001b[0m\u001b[0;34m\u001b[0m\u001b[0m\n\u001b[0m\u001b[1;32m   1179\u001b[0m         \u001b[0;32melse\u001b[0m\u001b[0;34m:\u001b[0m\u001b[0;34m\u001b[0m\u001b[0;34m\u001b[0m\u001b[0m\n\u001b[1;32m   1180\u001b[0m             \u001b[0;32mif\u001b[0m \u001b[0mengine\u001b[0m \u001b[0;34m==\u001b[0m \u001b[0;34m\"python\"\u001b[0m\u001b[0;34m:\u001b[0m\u001b[0;34m\u001b[0m\u001b[0;34m\u001b[0m\u001b[0m\n",
      "\u001b[0;32m~/opt/anaconda3/lib/python3.8/site-packages/pandas/io/parsers.py\u001b[0m in \u001b[0;36m__init__\u001b[0;34m(self, src, **kwds)\u001b[0m\n\u001b[1;32m   2006\u001b[0m         \u001b[0mkwds\u001b[0m\u001b[0;34m[\u001b[0m\u001b[0;34m\"usecols\"\u001b[0m\u001b[0;34m]\u001b[0m \u001b[0;34m=\u001b[0m \u001b[0mself\u001b[0m\u001b[0;34m.\u001b[0m\u001b[0musecols\u001b[0m\u001b[0;34m\u001b[0m\u001b[0;34m\u001b[0m\u001b[0m\n\u001b[1;32m   2007\u001b[0m \u001b[0;34m\u001b[0m\u001b[0m\n\u001b[0;32m-> 2008\u001b[0;31m         \u001b[0mself\u001b[0m\u001b[0;34m.\u001b[0m\u001b[0m_reader\u001b[0m \u001b[0;34m=\u001b[0m \u001b[0mparsers\u001b[0m\u001b[0;34m.\u001b[0m\u001b[0mTextReader\u001b[0m\u001b[0;34m(\u001b[0m\u001b[0msrc\u001b[0m\u001b[0;34m,\u001b[0m \u001b[0;34m**\u001b[0m\u001b[0mkwds\u001b[0m\u001b[0;34m)\u001b[0m\u001b[0;34m\u001b[0m\u001b[0;34m\u001b[0m\u001b[0m\n\u001b[0m\u001b[1;32m   2009\u001b[0m         \u001b[0mself\u001b[0m\u001b[0;34m.\u001b[0m\u001b[0munnamed_cols\u001b[0m \u001b[0;34m=\u001b[0m \u001b[0mself\u001b[0m\u001b[0;34m.\u001b[0m\u001b[0m_reader\u001b[0m\u001b[0;34m.\u001b[0m\u001b[0munnamed_cols\u001b[0m\u001b[0;34m\u001b[0m\u001b[0;34m\u001b[0m\u001b[0m\n\u001b[1;32m   2010\u001b[0m \u001b[0;34m\u001b[0m\u001b[0m\n",
      "\u001b[0;32mpandas/_libs/parsers.pyx\u001b[0m in \u001b[0;36mpandas._libs.parsers.TextReader.__cinit__\u001b[0;34m()\u001b[0m\n",
      "\u001b[0;32mpandas/_libs/parsers.pyx\u001b[0m in \u001b[0;36mpandas._libs.parsers.TextReader._setup_parser_source\u001b[0;34m()\u001b[0m\n",
      "\u001b[0;31mFileNotFoundError\u001b[0m: [Errno 2] No such file or directory: 'data-25deg.csv'"
     ]
    }
   ],
   "source": [
    "df = pd.read_csv('data-25deg.csv')\n",
    "\n",
    "data_time = df['Time (s)'].to_numpy()\n",
    "data_y = df['Gyroscope y (rad/s)'].to_numpy()\n",
    "\n",
    "#intervals = [ \n",
    "#        [6.137,6.51],\n",
    "#        [16.345,16.71],\n",
    "#        [26.49,26.85],\n",
    "#        [45.245,45.59],\n",
    "#        [56.66,57.03],\n",
    "#    \n",
    "#        [82.17,82.52],\n",
    "#        [105.91,106.275],\n",
    "#        [122.63,123.0],\n",
    "#        [148.2,148.56],\n",
    "#        [187.6,187.98],\n",
    "#    \n",
    "#        [215.653,216.015],\n",
    "#        [249.85,250.23],\n",
    "#        [276.762,277.145],      \n",
    "#]\n",
    "\n",
    "\n",
    "intervals=[[ 6.22435529,6.47452578], [ 16.44140536,16.68156928], [ 26.577961,68 ,26.8181202 ] ,[ 45.33051284,45.5706727], \n",
    "           [ 56.75800231,56.99816687], [ 82.26496809,82.51513134], [106.0007281,106.240887 ], \n",
    "           [122.734669,122.9748286 ], [148.291861,148.5320285], [187.7081027,187.9582686 ], [215.7566253,216.0067936 ], \n",
    "           [249.9594759,250.19963 ], [276.8672463,277.1174126 ], [294.9593008,295.2094701], [313.1614997,313.4216734], \n",
    "           [340.2595935,340.509657 ], [ 373.0914269,373.3315851], [402.6211986,402.8713503 ], [436.0434822,436.2938803 ], \n",
    "           [470.6267384,470.876898]]\n",
    "\n",
    "#Plot dataset\n",
    "#plt.plot(data_time[:],data_y[:])\n"
   ]
  },
  {
   "cell_type": "code",
   "execution_count": null,
   "metadata": {},
   "outputs": [],
   "source": [
    "#Plot dataset\n",
    "plt.plot(data_time,data_y)\n",
    "\n",
    "# Eseguo il fit sul dataset negli intervalli\n",
    "alpha_values = np.array([rt.m_from_fit(data_time,data_y,x[0],x[1]) for x in intervals ])\n",
    "alpha_fit = alpha_values[:,0] #array valori attesi\n",
    "salpha_fit = alpha_values[:,1] #array incertezze\n",
    "\n",
    "print(alpha_fit)\n",
    "print(salpha_fit)"
   ]
  },
  {
   "cell_type": "code",
   "execution_count": null,
   "metadata": {
    "scrolled": true
   },
   "outputs": [],
   "source": [
    "#inferenza prior non vaga\n",
    "#alpha_best = sum(alpha_fit*(1/salpha_fit**2))/sum(1/salpha_fit**2)\n",
    "#salpha_best = 1/np.sqrt(sum(1/salpha_fit**2))\n",
    "\n",
    "#oppure calcolarla con media\n",
    "alpha_best = alpha_fit.mean()\n",
    "salpha_best = np.std(alpha_fit,ddof=1)/np.sqrt(len(alpha_fit))\n",
    "\n",
    "print(alpha_best)\n",
    "print(salpha_best)\n",
    "\n",
    "rt.PrintResult(\"Aplha\",alpha_best,salpha_best,2,\"[Rad/s]\" )"
   ]
  },
  {
   "cell_type": "code",
   "execution_count": null,
   "metadata": {},
   "outputs": [],
   "source": [
    "dtab = pd.DataFrame(data={\n",
    "    'Alpha' : alpha_fit,\n",
    "    'Sigma Alpha' : salpha_fit,\n",
    "})\n",
    "\n",
    "dtab"
   ]
  },
  {
   "cell_type": "code",
   "execution_count": null,
   "metadata": {},
   "outputs": [],
   "source": [
    "# Seconda Parte\n",
    "## Misura Dell'accelerazione di gravità"
   ]
  },
  {
   "cell_type": "code",
   "execution_count": null,
   "metadata": {
    "scrolled": false
   },
   "outputs": [],
   "source": [
    "# analizzo il dataset degli angoli e ne ricavo valore atteso e incertezza\n",
    "angle_files = [ ['inclinazione-15deg.csv', 5],['inclinazione-25deg.csv',3], ['inclinazione-35deg.csv',2] ]\n",
    "angles = np.array([ rt.get_angle_from_data(data,nmis) for data,nmis in angle_files ])"
   ]
  },
  {
   "cell_type": "code",
   "execution_count": null,
   "metadata": {},
   "outputs": [],
   "source": [
    "# analizzo dataset singola misura\n",
    "# ricavo alpha e incertezza tramite fit\n",
    "\n",
    "alphas_files = ['data-15deg.csv','data-35deg.csv']\n",
    "intervals_2 = [ [6.4,6.69] , [6.575,6.72] ]\n",
    "\n",
    "#tramite questa funzione puoi trovare l'intervallo in cui analizzare il dataset\n",
    "plt = rt.plot_gyro_phyphox(alphas_files[0],intervals_2[0])\n"
   ]
  },
  {
   "cell_type": "code",
   "execution_count": null,
   "metadata": {},
   "outputs": [],
   "source": [
    "rt.fit_from_gyro_phyphox(alphas_files[0],intervals_2[0])"
   ]
  },
  {
   "cell_type": "code",
   "execution_count": null,
   "metadata": {},
   "outputs": [],
   "source": [
    "plt2 = rt.plot_gyro_phyphox(alphas_files[1],intervals_2[1])"
   ]
  },
  {
   "cell_type": "code",
   "execution_count": null,
   "metadata": {},
   "outputs": [],
   "source": [
    "rt.fit_from_gyro_phyphox(alphas_files[1],intervals_2[1])"
   ]
  },
  {
   "cell_type": "code",
   "execution_count": null,
   "metadata": {},
   "outputs": [],
   "source": [
    "# punto 7 - 2\n",
    "# fluttuazioni relative nella misura di α per un diverso angolo del piano\n",
    "\n",
    "files = [\n",
    "    pd.read_csv(alphas_files[0]),\n",
    "    pd.read_csv(\"data-25deg.csv\"),#file delle 10 misure\n",
    "    pd.read_csv(alphas_files[1])\n",
    "]\n",
    "\n",
    "intervals_3 = [\n",
    "    intervals_2[0],\n",
    "    intervals[4],#un intervallo a caso delle 10 misure del primo punto\n",
    "    intervals_2[1]\n",
    "] \n",
    "\n",
    "for n in range(0,3):\n",
    "    df = files[n]\n",
    "    y = df['Gyroscope y (rad/s)'].to_numpy()\n",
    "    x = df['Time (s)'].to_numpy()\n",
    "    ind_start = rt.time_to_index(x,intervals_3[n][0])\n",
    "    ind_finish = rt.time_to_index(x,intervals_3[n][1])\n",
    "    plt.plot(x[ind_start:ind_finish]-intervals_3[n][0], y[ind_start:ind_finish]-y[0])\n",
    "\n",
    "plt.grid()"
   ]
  },
  {
   "cell_type": "code",
   "execution_count": null,
   "metadata": {},
   "outputs": [],
   "source": [
    "\n",
    "\n",
    "aplha_fit = [ rt.fit_from_gyro_phyphox(alphas_files[x],intervals_2[x],plot=False)  for x in range(0,2)]\n",
    "\n",
    "aplha_angles_dataset = np.array([ \n",
    "   # [ angle, sangle, aplha, saplha]\n",
    "   [ angles[0][0], angles[0][1], aplha_fit[0][0], aplha_fit[0][1] ],#angolo circa 15 deg\n",
    "   [ angles[1][0], angles[1][1], alpha_best, salpha_best ],\n",
    "   [ angles[2][0], angles[2][1], aplha_fit[1][0], aplha_fit[1][1] ],#angolo circa 35 deg\n",
    "])\n"
   ]
  },
  {
   "cell_type": "code",
   "execution_count": null,
   "metadata": {},
   "outputs": [],
   "source": [
    "x = aplha_angles_dataset[:,0] #angle\n",
    "sx = aplha_angles_dataset[:,1] #sangle\n",
    "y = aplha_angles_dataset[:,2] #alpha\n",
    "sy = aplha_angles_dataset[:,3] #saplha\n",
    "\n",
    "dtab = pd.DataFrame(data={\n",
    "    'Angle' : x,\n",
    "    'Sigma Angle' : sx,\n",
    "    'Alpha' : y,\n",
    "    'Sigma Alpha' : sy,\n",
    "    'SAplha/Alpha' : [ sy[x]/y[x] for x in range(0,3)]\n",
    "})\n",
    "\n",
    "dtab\n"
   ]
  },
  {
   "cell_type": "code",
   "execution_count": null,
   "metadata": {},
   "outputs": [],
   "source": [
    "x = np.sin(x)\n",
    "sx = np.cos(x)*sx #da rivedere derivata parziale\n",
    "\n",
    "plt.plot(x,y)\n",
    "plt.errorbar(x, y, xerr=sx,yerr=sy,ecolor='b', fmt='-o')\n",
    "plt.plot(x,y,'ro')\n",
    "\n",
    "plt.grid(linestyle='-', linewidth=1)\n",
    "\n",
    "plt.xlabel(\"sin($\\dot{\\Theta}$)\")\n",
    "plt.ylabel(r\"$\\dot{\\alpha}$ [rad/s]\")\n",
    "plt.title(r'Grafico di $\\alpha$ in funzione di sin($\\dot{\\Theta}$) ')\n",
    "\n",
    "plt.show()"
   ]
  },
  {
   "cell_type": "code",
   "execution_count": null,
   "metadata": {},
   "outputs": [],
   "source": [
    "# fit a sin(theta)\n",
    "ux=sx\n",
    "uy=sy\n",
    "m0, sm0, c0, sc0, cov0, rho0 = my.lin_fit(x, y, uy, \"x [ux]\", \"y [uy]\", 0, x.max()+0.01, 0, y.max()+0.1, plot=False, setrange=True)\n"
   ]
  },
  {
   "cell_type": "code",
   "execution_count": null,
   "metadata": {},
   "outputs": [],
   "source": [
    "# nuove y\n",
    "uy_new = np.sqrt(uy**2+(m0*ux)**2)\n",
    "m, sm, c, sc, cov, rho = my.lin_fit(x, y, uy_new, \"x [ux]\", \"y [uy]\", 0, x.max()+0.01, 0, y.max()+0.1, plot=False, setrange=True)"
   ]
  },
  {
   "cell_type": "code",
   "execution_count": null,
   "metadata": {},
   "outputs": [],
   "source": [
    "# studio dei residui\n",
    "y_atteso = m*x + c\n",
    "d = y - y_atteso\n",
    "d_norm = d / uy_new\n",
    "plt.errorbar(x,d,uy_new,marker='.',linestyle=\"\")\n",
    "plt.title(\"Studio dei residui\")\n",
    "plt.ylabel(\"$d=y-y_{atteso}$ [rad/s]\")\n",
    "plt.xlabel(\"sin($\\dot{\\Theta}$)\")\n",
    "plt.grid()"
   ]
  },
  {
   "cell_type": "code",
   "execution_count": null,
   "metadata": {},
   "outputs": [],
   "source": [
    "plt.errorbar(x,d_norm,uy_new/uy_new,marker='.',linestyle=\"\")\n",
    "plt.title(\"Studio dei residui normalizzati\")\n",
    "plt.ylabel(\"$d/\\sigma_y=(y-y_{atteso})/\\sigma_y$\")\n",
    "plt.xlabel(\"sin($\\dot{\\Theta}$)\")\n",
    "plt.grid()"
   ]
  },
  {
   "cell_type": "code",
   "execution_count": null,
   "metadata": {},
   "outputs": [],
   "source": [
    " # Incertezze a posteriori\n",
    "sigmy_post = math.sqrt( np.sum(d**2)/(d.size-2) )\n",
    "uy_post = np.repeat(sigmy_post,y.size)\n",
    "print (sigmy_post)\n",
    "\n",
    "# Nuovo fit con incertezze a posteriori sulle y\n",
    "m1, sm1, c1, sc1, cov1, rho1 = my.lin_fit(x, y, uy_post, \"X [ux]\", \"y [uy]\", 0, x.max()+0.01, 0, y.max()+0.1, plot=True, setrange=True)\n",
    "\n",
    "plt.xlabel(\"sin($\\dot{\\Theta}$) [rad]\")\n",
    "plt.ylabel(r\"$\\dot{\\alpha}$ [rad/s]\")\n",
    "plt.title(r'Fit di $\\alpha$ in funzione di $\\Theta$ ')\n"
   ]
  },
  {
   "cell_type": "code",
   "execution_count": null,
   "metadata": {},
   "outputs": [],
   "source": [
    "# telefono/sensore rettangolare\n",
    "tel = {\n",
    "    'I_cm': None,\n",
    "    'sI_cm':None,\n",
    "    'm' : 0.150,#kg\n",
    "    'sm' : 0.025/np.sqrt(12),\n",
    "    'l_a' : 0.072,#m\n",
    "    'l_b' : 0.01,#m\n",
    "    'sl' : 0.001/np.sqrt(12),\n",
    "}\n",
    "\n",
    "dev_m = (tel['l_a']**2+tel['l_b']**2)/12\n",
    "dev_a = tel['l_a']*tel['m']/6\n",
    "dev_b = tel['l_b']*tel['m']/6\n",
    "\n",
    "tel['I_cm'] = (tel['m']*(tel['l_a']**2 + tel['l_b']**2))/12\n",
    "tel['sI_cm'] = np.sqrt( (dev_m*tel['sm'])**2 + (dev_a*tel['sl'])**2 + (dev_b*tel['sl'])**2 )\n",
    "\n",
    "\n",
    "\n",
    "# cilindro che rotola\n",
    "rot = {\n",
    "    'I_cm' : None,\n",
    "    'sI_cm': None,\n",
    "    'm' : 0.163,#kg\n",
    "    'sm' : 0.025/np.sqrt(12),\n",
    "    'r_ext' : 0.102/2,#m\n",
    "    'r_int' : 0.076/2,#m\n",
    "    'sr' : 0.001/np.sqrt(12),\n",
    "}\n",
    "\n",
    "dev_m = (rot['r_ext']**2+rot['r_int']**2)/2\n",
    "dev_a = rot['r_ext']*rot['m']\n",
    "dev_b = rot['r_int']*rot['m']\n",
    "\n",
    "rot['I_cm'] = (rot['m']*(rot['r_ext']**2 + rot['r_int']**2))/2\n",
    "rot['sI_cm'] = np.sqrt( (dev_m*rot['sm'])**2 + (dev_a*rot['sr'])**2 + (dev_b*rot['sr'])**2 )\n",
    "\n",
    "\n",
    "#tot\n",
    "Icm_tot = tel['I_cm'] + rot['I_cm']\n",
    "sIcm_tot = np.sqrt(rot['sI_cm']**2+tel['sI_cm']**2)\n",
    "\n",
    "rt.PrintResult(\"Icm: \", Icm_tot,sIcm_tot,5,\"[kg*m^2]\")"
   ]
  },
  {
   "cell_type": "code",
   "execution_count": null,
   "metadata": {},
   "outputs": [],
   "source": [
    "# gravità\n",
    "R = rot['r_ext']\n",
    "sR = rot['sr']\n",
    "M = rot['m'] + tel['m']\n",
    "sM = rot['sm']\n",
    "\n",
    "dev_m = Icm_tot/(M*R) + R\n",
    "dev_I = m/(M*R)\n",
    "dev_M = (m*Icm_tot)/(R*M**2)\n",
    "dev_R = (-m*Icm_tot)/(R*M**2) + m\n",
    "\n",
    "g = m*(Icm_tot+M*R**2)/(M*R)\n",
    "sg = np.sqrt( (dev_m*sm)**2 + (dev_I*sIcm_tot)**2 + (dev_M*sM)**2 + (dev_R*sR)**2 )\n",
    "\n",
    "\n",
    "if g >= 8 and g <= 11:\n",
    "    print(\"Sempre sia lodato! \\n\")\n",
    "else: \n",
    "    print(\"Ancora non lodato! :( \\n\")\n",
    "\n",
    "rt.PrintResult(\"Gravità: \",g,sg,4,\"[N/kg]\")\n"
   ]
  },
  {
   "cell_type": "code",
   "execution_count": null,
   "metadata": {},
   "outputs": [],
   "source": [
    "z=(9.805-g)/sg\n",
    "z"
   ]
  },
  {
   "cell_type": "code",
   "execution_count": null,
   "metadata": {},
   "outputs": [],
   "source": []
  }
 ],
 "metadata": {
  "kernelspec": {
   "display_name": "Python 3",
   "language": "python",
   "name": "python3"
  },
  "language_info": {
   "codemirror_mode": {
    "name": "ipython",
    "version": 3
   },
   "file_extension": ".py",
   "mimetype": "text/x-python",
   "name": "python",
   "nbconvert_exporter": "python",
   "pygments_lexer": "ipython3",
   "version": "3.8.5"
  }
 },
 "nbformat": 4,
 "nbformat_minor": 4
}
